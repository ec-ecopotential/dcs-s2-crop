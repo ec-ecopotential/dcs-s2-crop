{
 "cells": [
  {
   "cell_type": "markdown",
   "metadata": {},
   "source": [
    "## Sentinel-2 crop"
   ]
  },
  {
   "cell_type": "code",
   "execution_count": 1,
   "metadata": {
    "collapsed": true
   },
   "outputs": [],
   "source": [
    "service = dict([('title', 'S2 CROP'),\n",
    "                ('abstract', 'Sentinel-2 crop'),\n",
    "                ('id', 's22_crop')])"
   ]
  },
  {
   "cell_type": "code",
   "execution_count": 2,
   "metadata": {
    "collapsed": true
   },
   "outputs": [],
   "source": [
    "wkt =  dict([('id', 'AOI'),\n",
    "             ('value', 'POLYGON((-6.79440295589744 37.1191319871777,-6.80827154725944 37.1673031942056,-6.72121114356795 37.2425767108835,-6.71042775152577 37.2930498879682,-6.73405462341917 37.3301447063348,-6.71685147187095 37.3522253716156,-6.67435624435345 37.3534492963332,-6.64461873043217 37.3365633914571,-6.62625336367183 37.3569789562915,-6.59581018720718 37.3506994424118,-6.58125246058411 37.3703051383248,-6.492413660497 37.3590379521576,-6.4716624422663 37.3807359777278,-6.43859705183134 37.368908852933,-6.44398095303713 37.347088527492,-6.42200724935979 37.3329929700694,-6.37035012694059 37.3583637388823,-6.33153540861988 37.3329986280188,-6.25703879672152 37.3486795386779,-6.2123425985781 37.3266608721382,-6.1976208676784 37.283024780795,-6.17366048732846 37.2660742144794,-6.15177710683581 37.2667431439207,-6.14475916204647 37.3055642119627,-6.1153577846492 37.3105672777454,-6.04475036124726 37.2771976083931,-6.04063041298302 37.2060457158668,-6.01561413928283 37.1744528799079,-6.03401959555254 37.1582677514823,-6.01528760169561 37.1211642619874,-6.03587498721126 37.0508366627984,-6.08415258431292 37.0557470251154,-6.1443715598251 37.0182321851901,-6.20489081698833 36.9013662293736,-6.24848183495607 36.8846441975983,-6.28133674315331 36.9000390906331,-6.27285487885334 36.8641095189495,-6.21240564569216 36.8569441225281,-6.19273049982008 36.8273222937041,-6.23650318117893 36.7815132843624,-6.25972339425557 36.7794168824025,-6.29452828553456 36.7134050019461,-6.32211152509425 36.693679078589,-6.40354402587554 36.7535989999008,-6.39366914786855 36.7750231637474,-6.42465019950879 36.7928589511795,-6.48913510482893 36.9063367348853,-6.55574132052792 36.9640015939793,-6.54729285159512 36.9812830814621,-6.79440295589744 37.1191319871777))'),\n",
    "             ('title', 'Area of interest'),\n",
    "             ('abstract', 'Area of interest in WKT')])"
   ]
  },
  {
   "cell_type": "code",
   "execution_count": 3,
   "metadata": {
    "collapsed": true
   },
   "outputs": [],
   "source": [
    "pa_code = dict([('id', 'pa_code'),\n",
    "               ('value', 'DO'),\n",
    "               ('title', 'Protected Area code'),\n",
    "               ('abstract', 'Protected Area code (one of DO,...)')])"
   ]
  },
  {
   "cell_type": "code",
   "execution_count": 4,
   "metadata": {
    "collapsed": true
   },
   "outputs": [],
   "source": [
    "pa_name = dict([('id', 'pa_name'),\n",
    "               ('value', 'Donana'),\n",
    "               ('title', 'Protected Area name'),\n",
    "               ('abstract', 'Protected Area name (one of Donana,...)')])"
   ]
  },
  {
   "cell_type": "code",
   "execution_count": 5,
   "metadata": {
    "collapsed": true
   },
   "outputs": [],
   "source": [
    "data_path = '/workspace/data'"
   ]
  },
  {
   "cell_type": "code",
   "execution_count": 6,
   "metadata": {
    "collapsed": true
   },
   "outputs": [],
   "source": [
    "input_identifier = 'S2A_MSIL1C_20170909T110651_N0205_R137_T30STF_20170909T111217'"
   ]
  },
  {
   "cell_type": "code",
   "execution_count": 7,
   "metadata": {
    "collapsed": true
   },
   "outputs": [],
   "source": [
    "input_reference = 'https://catalog.terradue.com/sentinel2/search?uid=S2A_MSIL1C_20170909T110651_N0205_R137_T30STF_20170909T111217'"
   ]
  },
  {
   "cell_type": "code",
   "execution_count": 8,
   "metadata": {
    "collapsed": false
   },
   "outputs": [],
   "source": [
    "import os\n",
    "import numpy as np\n",
    "import matplotlib\n",
    "import matplotlib.pyplot as plt\n",
    "import snappy\n",
    "import dateutil.parser as parser\n",
    "import gc\n",
    "from datetime import datetime\n",
    "import matplotlib\n",
    "import matplotlib.colors as colors\n",
    "\n",
    "from os.path import basename\n",
    "import gdal\n",
    "import osr\n",
    "\n",
    "%matplotlib inline"
   ]
  },
  {
   "cell_type": "code",
   "execution_count": 9,
   "metadata": {
    "collapsed": false
   },
   "outputs": [],
   "source": [
    "import sys\n",
    "\n",
    "sys.path.append('/application/notebook/libexec/') \n",
    "sys.path.append(os.getcwd())\n",
    "import ISOMetadata"
   ]
  },
  {
   "cell_type": "code",
   "execution_count": 10,
   "metadata": {
    "collapsed": false
   },
   "outputs": [],
   "source": [
    "s2prd = \"%s/%s/%s.SAFE/MTD_MSIL1C.xml\" % (data_path, input_identifier, input_identifier)\n",
    "product = snappy.ProductIO.readProduct(s2prd)\n",
    "\n",
    "width = product.getSceneRasterWidth()\n",
    "height = product.getSceneRasterHeight()\n",
    "name = product.getName()\n",
    "description = product.getDescription()\n",
    "band_names = product.getBandNames()\n",
    "\n"
   ]
  },
  {
   "cell_type": "code",
   "execution_count": 11,
   "metadata": {
    "collapsed": false
   },
   "outputs": [],
   "source": [
    "product_date = parser.parse(product.getStartTime().toString()).date()"
   ]
  },
  {
   "cell_type": "code",
   "execution_count": 12,
   "metadata": {
    "collapsed": false
   },
   "outputs": [],
   "source": [
    "output_date = '%s%02d%02d' % (product_date.year, product_date.month, product_date.day)"
   ]
  },
  {
   "cell_type": "markdown",
   "metadata": {},
   "source": [
    "### Cloud coverage analysis over the cropped area"
   ]
  },
  {
   "cell_type": "code",
   "execution_count": 13,
   "metadata": {
    "collapsed": true
   },
   "outputs": [],
   "source": [
    "snappy.GPF.getDefaultInstance().getOperatorSpiRegistry().loadOperatorSpis()\n",
    "\n",
    "HashMap = snappy.jpy.get_type('java.util.HashMap')\n",
    "\n",
    "WKTReader = snappy.jpy.get_type('com.vividsolutions.jts.io.WKTReader')\n",
    "    \n",
    "parameters = HashMap()\n",
    "parameters.put('referenceBand', 'B1')\n",
    "    \n",
    "product = snappy.GPF.createProduct('Resample', parameters, product)"
   ]
  },
  {
   "cell_type": "code",
   "execution_count": 14,
   "metadata": {
    "collapsed": true
   },
   "outputs": [],
   "source": [
    "HashMap = snappy.jpy.get_type('java.util.HashMap')\n",
    "\n",
    "BandDescriptor = snappy.jpy.get_type('org.esa.snap.core.gpf.common.BandMathsOp$BandDescriptor')\n",
    "\n",
    "targetBand0 = BandDescriptor()\n",
    "targetBand0.name = 'cloud_mask'\n",
    "targetBand0.type = 'uint16'\n",
    "targetBand0.expression = 'cirrus_clouds_60m or opaque_clouds_60m'\n",
    "\n",
    "\n",
    "targetBands = snappy.jpy.array('org.esa.snap.core.gpf.common.BandMathsOp$BandDescriptor', 1)\n",
    "targetBands[0] = targetBand0\n",
    "\n",
    " \n",
    "parameters = HashMap()\n",
    "parameters.put('targetBands', targetBands)\n",
    "\n",
    "cloud_mask = snappy.GPF.createProduct('BandMaths', parameters, product)"
   ]
  },
  {
   "cell_type": "code",
   "execution_count": 15,
   "metadata": {
    "collapsed": false
   },
   "outputs": [],
   "source": [
    "WKTReader = snappy.jpy.get_type('com.vividsolutions.jts.io.WKTReader')\n",
    "geom = WKTReader().read(wkt['value'])\n",
    "\n",
    "\n",
    "parameters = HashMap()\n",
    "parameters.put('copyMetadata', True)\n",
    "parameters.put('geoRegion', geom)\n",
    "    \n",
    "cloud_mask_geo = snappy.GPF.createProduct('Subset', parameters, cloud_mask)\n",
    "mask_output_name = 'S2A_USER_PRD_MSIL1C_%s_%s_MASK_%s.tif' % (output_date, pa_code['value'], '60')\n",
    "snappy.ProductIO.writeProduct(cloud_mask_geo, mask_output_name, 'GeoTIFF')"
   ]
  },
  {
   "cell_type": "code",
   "execution_count": 16,
   "metadata": {
    "collapsed": true
   },
   "outputs": [],
   "source": [
    "import gdalnumeric\n",
    "raster_file = gdalnumeric.LoadFile(mask_output_name)\n",
    "pixel_count_cloud = (raster_file == 1).sum()  # for pixel value = 1\n",
    "\n",
    "cloud_percent =  float(pixel_count_cloud) / float(raster_file.size) * 100.0"
   ]
  },
  {
   "cell_type": "code",
   "execution_count": 17,
   "metadata": {
    "collapsed": false
   },
   "outputs": [
    {
     "data": {
      "text/plain": [
       "99.87594992691832"
      ]
     },
     "execution_count": 17,
     "metadata": {},
     "output_type": "execute_result"
    }
   ],
   "source": [
    "cloud_percent"
   ]
  },
  {
   "cell_type": "code",
   "execution_count": 18,
   "metadata": {
    "collapsed": false
   },
   "outputs": [
    {
     "data": {
      "text/plain": [
       "0"
      ]
     },
     "execution_count": 18,
     "metadata": {},
     "output_type": "execute_result"
    }
   ],
   "source": [
    "cloud_mask = None\n",
    "cloud_mask_geo = None\n",
    "raster_file = None\n",
    "\n",
    "gc.collect()"
   ]
  },
  {
   "cell_type": "markdown",
   "metadata": {},
   "source": [
    "### Crop"
   ]
  },
  {
   "cell_type": "code",
   "execution_count": 19,
   "metadata": {
    "collapsed": false
   },
   "outputs": [],
   "source": [
    "snappy.GPF.getDefaultInstance().getOperatorSpiRegistry().loadOperatorSpis()\n",
    "\n",
    "HashMap = snappy.jpy.get_type('java.util.HashMap')\n",
    "\n",
    "WKTReader = snappy.jpy.get_type('com.vividsolutions.jts.io.WKTReader')\n",
    "geom = WKTReader().read(wkt['value'])\n",
    "\n",
    "subsets = []\n",
    "geotiffs = []\n",
    "for band in list(band_names)[0:13]:\n",
    "    \n",
    "    parameters = HashMap()\n",
    "    parameters.put('referenceBand', band)\n",
    "    \n",
    "    resample = snappy.GPF.createProduct('Resample', parameters, product)\n",
    "\n",
    "    parameters = HashMap()\n",
    "    parameters.put('copyMetadata', True)\n",
    "    parameters.put('sourceBands', band)\n",
    "   \n",
    "    subset = snappy.GPF.createProduct('Subset', parameters, resample)\n",
    "    \n",
    "    parameters = HashMap()\n",
    "    parameters.put('copyMetadata', True)\n",
    "    parameters.put('geoRegion', geom)\n",
    "    \n",
    "    subset_geo = snappy.GPF.createProduct('Subset', parameters, subset)\n",
    "    \n",
    "    subsets.append(subset_geo)\n",
    "    \n",
    "    output_name = 'S2A_USER_PRD_MSIL1C_%s_%s_CROP_%s.tif' % (output_date, pa_code['value'], band)\n",
    "    geotiffs.append(output_name)\n",
    "    \n",
    "    snappy.ProductIO.writeProduct(subset_geo, output_name, 'GeoTIFF')"
   ]
  },
  {
   "cell_type": "code",
   "execution_count": 20,
   "metadata": {
    "collapsed": true
   },
   "outputs": [],
   "source": [
    "%matplotlib inline\n",
    "\n",
    "def plotBand(product, band, vmin, vmax):\n",
    "     \n",
    "    band = product.getBand(band)\n",
    "\n",
    "    w = band.getRasterWidth()\n",
    "    h = band.getRasterHeight()\n",
    "\n",
    "    band_data = np.zeros(w * h, np.float32)\n",
    "    band.readPixels(0, 0, w, h, band_data)\n",
    "\n",
    "    band_data.shape = h, w\n",
    "\n",
    "    imgplot = plt.imshow(band_data, cmap=plt.cm.binary_r, vmin=vmin, vmax=vmax)\n",
    "\n",
    "    \n",
    "    return imgplot \n"
   ]
  },
  {
   "cell_type": "code",
   "execution_count": 21,
   "metadata": {
    "collapsed": false
   },
   "outputs": [],
   "source": [
    "if False:\n",
    "    fig = plt.figure(figsize=(20,20))\n",
    "\n",
    "    for index, subset in enumerate(subsets):\n",
    "        a=fig.add_subplot(4,4,index+1)\n",
    "        imgplot = plotBand(subset, subsets[index].getBandNames()[0], 0, 1)\n",
    "        name = subsets[index].getBandNames()[0]\n",
    "        a.set_title(name)\n",
    "    \n",
    "    plt.tight_layout()\n",
    "    fig = plt.gcf() \n",
    "    plt.show()\n",
    "\n",
    "    fig.clf()\n",
    "    plt.close()\n",
    "    gc.collect()"
   ]
  },
  {
   "cell_type": "code",
   "execution_count": 22,
   "metadata": {
    "collapsed": true
   },
   "outputs": [],
   "source": [
    "def set_dates():\n",
    "    \n",
    "    iso_metadata.set_start_date(parser.parse(subset.getStartTime().toString()).isoformat())\n",
    "    iso_metadata.set_end_date(parser.parse(subset.getEndTime().toString()).isoformat())"
   ]
  },
  {
   "cell_type": "code",
   "execution_count": 23,
   "metadata": {
    "collapsed": true
   },
   "outputs": [],
   "source": [
    "def set_info():\n",
    "    \n",
    "    short_name = os.path.splitext(basename(geotiff))[0]\n",
    "    \n",
    "    iso_metadata.set_identifier(short_name)\n",
    "    band = 'B1'\n",
    "    iso_metadata.set_title('Sentinel 2 Level 1C Band %s' % band)\n",
    "    iso_metadata.set_abstract('Sentinel 2 Level 1C Top of Atmosphere Reflectance for Band %s' % band)"
   ]
  },
  {
   "cell_type": "code",
   "execution_count": 24,
   "metadata": {
    "collapsed": true
   },
   "outputs": [],
   "source": [
    "def set_geo():\n",
    "    \n",
    "    ds = gdal.Open(geotiff)\n",
    "\n",
    "    iso_metadata.set_col_size(str(ds.RasterXSize))\n",
    "    iso_metadata.set_row_size(str(ds.RasterYSize))\n",
    "\n",
    "    transform = ds.GetGeoTransform()\n",
    "\n",
    "    iso_metadata.set_pixel_size(str(transform[1]))\n",
    "\n",
    "    ul_x = transform[0]\n",
    "    ul_y = transform[3]\n",
    "\n",
    "    nw_corner = '%s %s' % (str(ul_x), str(ul_y))\n",
    "\n",
    "    iso_metadata.set_nw_corner(nw_corner)\n",
    "\n",
    "    lr_x = transform[0] + transform[1] * ds.RasterXSize\n",
    "    lr_y = transform[3] + transform[5] * ds.RasterYSize\n",
    "\n",
    "    se_corner = '%s %s' % (str(lr_x), str(lr_y))\n",
    "\n",
    "    iso_metadata.set_se_corner(se_corner)\n",
    "\n",
    "    \n",
    "    \n",
    "    old_cs= osr.SpatialReference()\n",
    "    old_cs.ImportFromWkt(ds.GetProjectionRef())\n",
    "\n",
    "    wgs84_wkt = \"\"\"\n",
    "GEOGCS[\"WGS 84\",\n",
    "    DATUM[\"WGS_1984\",\n",
    "        SPHEROID[\"WGS 84\",6378137,298.257223563,\n",
    "            AUTHORITY[\"EPSG\",\"7030\"]],\n",
    "        AUTHORITY[\"EPSG\",\"6326\"]],\n",
    "    PRIMEM[\"Greenwich\",0,\n",
    "        AUTHORITY[\"EPSG\",\"8901\"]],\n",
    "    UNIT[\"degree\",0.01745329251994328,\n",
    "        AUTHORITY[\"EPSG\",\"9122\"]],\n",
    "    AUTHORITY[\"EPSG\",\"4326\"]]\"\"\"\n",
    "    new_cs = osr.SpatialReference()\n",
    "    new_cs .ImportFromWkt(wgs84_wkt)\n",
    "\n",
    "    transform = osr.CoordinateTransformation(old_cs,new_cs) \n",
    "\n",
    "    min_lon = transform.TransformPoint(ul_x,lr_y)[0]\n",
    "    iso_metadata.set_min_lon(str(min_lon))\n",
    "\n",
    "    min_lat = transform.TransformPoint(ul_x,lr_y)[1]\n",
    "    iso_metadata.set_min_lat(str(min_lat))\n",
    "\n",
    "    max_lon = transform.TransformPoint(lr_x, ul_y)[0]\n",
    "    iso_metadata.set_max_lon(str(max_lon))\n",
    "\n",
    "    max_lat = transform.TransformPoint(lr_x, ul_y)[1]\n",
    "    iso_metadata.set_max_lat(str(max_lat))\n",
    "    \n",
    "    prj = ds.GetProjection()\n",
    "    srs=osr.SpatialReference(wkt=prj)\n",
    "\n",
    "\n",
    "    iso_metadata.set_epsg_code(srs.GetAttrValue(\"PROJCS|AUTHORITY\", 1))"
   ]
  },
  {
   "cell_type": "code",
   "execution_count": 25,
   "metadata": {
    "collapsed": true
   },
   "outputs": [],
   "source": [
    "def write_properties(properties_file):\n",
    "    \n",
    "    properties = open(properties_file + '.properties', 'w')\n",
    "\n",
    "    properties.write('identifier=' + geotiff)\n",
    "    properties.write('\\n')\n",
    "    properties.write('date=%s/%s' % (parser.parse(subset.getStartTime().toString()).isoformat(), \n",
    "                                 parser.parse(subset.getEndTime().toString()).isoformat()))\n",
    "    properties.write('\\n')\n",
    "    properties.write('category=%s,http://www.terradue.com/api/data-pipeline/results,%s Protected Area resource' % (pa_code, pa_name))\n",
    " \n",
    "    properties.close()"
   ]
  },
  {
   "cell_type": "code",
   "execution_count": 26,
   "metadata": {
    "collapsed": false
   },
   "outputs": [],
   "source": [
    "iso_metadata = ISOMetadata.ISOMetadata()"
   ]
  },
  {
   "cell_type": "code",
   "execution_count": 27,
   "metadata": {
    "collapsed": false
   },
   "outputs": [
    {
     "ename": "TypeError",
     "evalue": "Argument must be bytes or unicode, got 'dict'",
     "output_type": "error",
     "traceback": [
      "\u001b[0;31m\u001b[0m",
      "\u001b[0;31mTypeError\u001b[0mTraceback (most recent call last)",
      "\u001b[0;32m<ipython-input-27-4f9251498a8a>\u001b[0m in \u001b[0;36m<module>\u001b[0;34m()\u001b[0m\n\u001b[1;32m      3\u001b[0m \u001b[0miso_metadata\u001b[0m\u001b[0;34m.\u001b[0m\u001b[0mset_data_format\u001b[0m\u001b[0;34m(\u001b[0m\u001b[0;34m'GEOTIFF'\u001b[0m\u001b[0;34m)\u001b[0m\u001b[0;34m\u001b[0m\u001b[0m\n\u001b[1;32m      4\u001b[0m \u001b[0miso_metadata\u001b[0m\u001b[0;34m.\u001b[0m\u001b[0mset_data_type\u001b[0m\u001b[0;34m(\u001b[0m\u001b[0;34m'UInt16'\u001b[0m\u001b[0;34m)\u001b[0m\u001b[0;34m\u001b[0m\u001b[0m\n\u001b[0;32m----> 5\u001b[0;31m \u001b[0miso_metadata\u001b[0m\u001b[0;34m.\u001b[0m\u001b[0mset_pa\u001b[0m\u001b[0;34m(\u001b[0m\u001b[0mpa_name\u001b[0m\u001b[0;34m)\u001b[0m\u001b[0;34m\u001b[0m\u001b[0m\n\u001b[0m\u001b[1;32m      6\u001b[0m \u001b[0miso_metadata\u001b[0m\u001b[0;34m.\u001b[0m\u001b[0mset_data_quality\u001b[0m\u001b[0;34m(\u001b[0m\u001b[0;34m'Nominal'\u001b[0m\u001b[0;34m)\u001b[0m\u001b[0;34m\u001b[0m\u001b[0m\n\u001b[1;32m      7\u001b[0m \u001b[0miso_metadata\u001b[0m\u001b[0;34m.\u001b[0m\u001b[0mset_responsible_party\u001b[0m\u001b[0;34m(\u001b[0m\u001b[0;34m'CNR'\u001b[0m\u001b[0;34m)\u001b[0m\u001b[0;34m\u001b[0m\u001b[0m\n",
      "\u001b[0;32m/workspace/dcs-s2-crop/src/main/app-resources/notebook/libexec/ISOMetadata.pyc\u001b[0m in \u001b[0;36mset_pa\u001b[0;34m(self, pa)\u001b[0m\n\u001b[1;32m    231\u001b[0m                          \u001b[0;34m'A:geographicElement/A:EX_GeographicDescription/'\u001b[0m \u001b[0;34m+\u001b[0m\u001b[0;34m\u001b[0m\u001b[0m\n\u001b[1;32m    232\u001b[0m                          \u001b[0;34m'A:geographicIdentifier/A:MD_Identifier/A:code/B:CharacterString'\u001b[0m\u001b[0;34m,\u001b[0m\u001b[0;34m\u001b[0m\u001b[0m\n\u001b[0;32m--> 233\u001b[0;31m                         pa)\n\u001b[0m\u001b[1;32m    234\u001b[0m \u001b[0;34m\u001b[0m\u001b[0m\n\u001b[1;32m    235\u001b[0m     \u001b[0;32mdef\u001b[0m \u001b[0mmetadata\u001b[0m\u001b[0;34m(\u001b[0m\u001b[0mself\u001b[0m\u001b[0;34m)\u001b[0m\u001b[0;34m:\u001b[0m\u001b[0;34m\u001b[0m\u001b[0m\n",
      "\u001b[0;32m/workspace/dcs-s2-crop/src/main/app-resources/notebook/libexec/ISOMetadata.pyc\u001b[0m in \u001b[0;36mupdate_text\u001b[0;34m(self, xpath, text)\u001b[0m\n\u001b[1;32m     27\u001b[0m         \u001b[0mel\u001b[0m \u001b[0;34m=\u001b[0m \u001b[0mself\u001b[0m\u001b[0;34m.\u001b[0m\u001b[0mroot\u001b[0m\u001b[0;34m.\u001b[0m\u001b[0mxpath\u001b[0m\u001b[0;34m(\u001b[0m\u001b[0mxpath\u001b[0m\u001b[0;34m,\u001b[0m \u001b[0mnamespaces\u001b[0m\u001b[0;34m=\u001b[0m\u001b[0mself\u001b[0m\u001b[0;34m.\u001b[0m\u001b[0miso_namespaces\u001b[0m\u001b[0;34m)\u001b[0m\u001b[0;34m\u001b[0m\u001b[0m\n\u001b[1;32m     28\u001b[0m \u001b[0;34m\u001b[0m\u001b[0m\n\u001b[0;32m---> 29\u001b[0;31m         \u001b[0mel\u001b[0m\u001b[0;34m[\u001b[0m\u001b[0;36m0\u001b[0m\u001b[0;34m]\u001b[0m\u001b[0;34m.\u001b[0m\u001b[0mtext\u001b[0m \u001b[0;34m=\u001b[0m \u001b[0mtext\u001b[0m\u001b[0;34m\u001b[0m\u001b[0m\n\u001b[0m\u001b[1;32m     30\u001b[0m \u001b[0;34m\u001b[0m\u001b[0m\n\u001b[1;32m     31\u001b[0m \u001b[0;34m\u001b[0m\u001b[0m\n",
      "\u001b[0;32msrc/lxml/etree.pyx\u001b[0m in \u001b[0;36mlxml.etree._Element.text.__set__ (src/lxml/etree.c:55074)\u001b[0;34m()\u001b[0m\n",
      "\u001b[0;32msrc/lxml/apihelpers.pxi\u001b[0m in \u001b[0;36mlxml.etree._setNodeText (src/lxml/etree.c:25861)\u001b[0;34m()\u001b[0m\n",
      "\u001b[0;32msrc/lxml/apihelpers.pxi\u001b[0m in \u001b[0;36mlxml.etree._createTextNode (src/lxml/etree.c:25724)\u001b[0;34m()\u001b[0m\n",
      "\u001b[0;32msrc/lxml/apihelpers.pxi\u001b[0m in \u001b[0;36mlxml.etree._utf8 (src/lxml/etree.c:32918)\u001b[0;34m()\u001b[0m\n",
      "\u001b[0;31mTypeError\u001b[0m: Argument must be bytes or unicode, got 'dict'"
     ]
    }
   ],
   "source": [
    "iso_metadata.set_contact('info@terradue.com')\n",
    "iso_metadata.set_date(output_date)\n",
    "iso_metadata.set_data_format('GEOTIFF')\n",
    "iso_metadata.set_data_type('UInt16')\n",
    "iso_metadata.set_pa(pa_name)\n",
    "iso_metadata.set_data_quality('Nominal')\n",
    "iso_metadata.set_responsible_party('CNR')"
   ]
  },
  {
   "cell_type": "code",
   "execution_count": null,
   "metadata": {
    "collapsed": false
   },
   "outputs": [],
   "source": [
    "for index, geotiff in enumerate(geotiffs):\n",
    "\n",
    "    subset = subsets[index] \n",
    "    \n",
    "    set_dates()\n",
    "    \n",
    "    set_info()\n",
    "    \n",
    "    set_geo()\n",
    "    \n",
    "    iso_metadata.write(os.path.splitext(basename(geotiff))[0] + '.xml')\n",
    "    \n",
    "    write_properties(basename(geotiff))"
   ]
  },
  {
   "cell_type": "code",
   "execution_count": null,
   "metadata": {
    "collapsed": true
   },
   "outputs": [],
   "source": []
  },
  {
   "cell_type": "code",
   "execution_count": null,
   "metadata": {
    "collapsed": true
   },
   "outputs": [],
   "source": []
  }
 ],
 "metadata": {
  "kernelspec": {
   "display_name": "Python 2",
   "language": "python",
   "name": "python2"
  },
  "language_info": {
   "codemirror_mode": {
    "name": "ipython",
    "version": 2
   },
   "file_extension": ".py",
   "mimetype": "text/x-python",
   "name": "python",
   "nbconvert_exporter": "python",
   "pygments_lexer": "ipython2",
   "version": "2.7.12"
  }
 },
 "nbformat": 4,
 "nbformat_minor": 2
}
